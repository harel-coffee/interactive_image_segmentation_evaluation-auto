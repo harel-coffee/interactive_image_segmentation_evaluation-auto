{
 "cells": [
  {
   "cell_type": "markdown",
   "metadata": {},
   "source": [
    "# AttrakDiff-2 Evaluation"
   ]
  },
  {
   "cell_type": "code",
   "execution_count": 1,
   "metadata": {},
   "outputs": [],
   "source": [
    "from collections import OrderedDict\n",
    "import numpy as np\n",
    "from scipy.stats import norm\n",
    "import statsmodels.stats.api as sms"
   ]
  },
  {
   "cell_type": "code",
   "execution_count": 2,
   "metadata": {},
   "outputs": [],
   "source": [
    "# Function to generate example data\n",
    "# print(*np.random.randint(low=1, high=8, size=(10, 28), dtype=np.int8).tolist(), sep=',\\n')"
   ]
  },
  {
   "cell_type": "markdown",
   "metadata": {},
   "source": [
    "## Input Data Definition"
   ]
  },
  {
   "cell_type": "code",
   "execution_count": 3,
   "metadata": {},
   "outputs": [],
   "source": [
    "attrakdiff_prototype1 = [\n",
    "    [7, 1, 7, 1, 2, 6, 7, 6, 2, 7, 3, 2, 2, 2, 7, 7, 1, 3, 3, 1, 2, 6, 1, 7, 4, 7, 1, 7],\n",
    "    [6, 7, 4, 1, 4, 1, 2, 7, 7, 4, 6, 3, 5, 7, 7, 5, 3, 1, 2, 7, 3, 3, 5, 5, 2, 2, 6, 2],\n",
    "    [4, 4, 4, 4, 5, 6, 4, 4, 6, 5, 6, 2, 6, 5, 4, 1, 1, 5, 4, 5, 3, 7, 7, 7, 7, 5, 1, 4],\n",
    "    [7, 2, 1, 3, 5, 1, 5, 7, 2, 3, 4, 5, 1, 5, 3, 2, 5, 2, 5, 6, 3, 1, 3, 2, 7, 3, 5, 7],\n",
    "    [7, 3, 4, 4, 5, 2, 5, 2, 6, 2, 1, 7, 5, 7, 1, 3, 4, 5, 2, 6, 7, 5, 6, 3, 6, 6, 2, 5],\n",
    "    [5, 1, 5, 4, 7, 5, 6, 7, 6, 6, 5, 6, 5, 4, 1, 7, 2, 2, 6, 4, 7, 5, 7, 7, 4, 1, 6, 5],\n",
    "    [3, 5, 7, 2, 3, 6, 7, 2, 5, 7, 2, 5, 5, 4, 4, 3, 7, 6, 4, 6, 6, 3, 4, 7, 1, 7, 2, 5],\n",
    "    [6, 7, 2, 5, 6, 3, 7, 3, 6, 1, 5, 2, 3, 5, 5, 5, 6, 6, 1, 1, 7, 5, 7, 1, 3, 3, 2, 7],\n",
    "    [5, 5, 5, 4, 1, 2, 7, 5, 1, 5, 5, 6, 7, 2, 4, 1, 5, 2, 4, 6, 5, 4, 2, 7, 7, 4, 1, 3],\n",
    "    [7, 4, 3, 7, 5, 3, 7, 3, 6, 6, 1, 3, 2, 7, 2, 4, 5, 5, 6, 2, 4, 2, 3, 2, 6, 2, 5, 6],\n",
    "]\n",
    "\n",
    "attrakdiff_prototype2 = [\n",
    "    [1, 4, 5, 4, 4, 4, 7, 5, 6, 5, 7, 3, 6, 4, 5, 4, 4, 4, 6, 3, 3, 1, 1, 3, 3, 1, 5, 7],\n",
    "    [1, 1, 5, 1, 5, 7, 7, 5, 4, 6, 4, 4, 3, 2, 5, 4, 6, 5, 1, 5, 4, 1, 1, 4, 3, 6, 4, 5],\n",
    "    [6, 2, 1, 3, 1, 7, 5, 4, 7, 7, 7, 2, 5, 7, 1, 5, 1, 5, 3, 7, 1, 6, 4, 7, 2, 6, 3, 5],\n",
    "    [1, 1, 4, 5, 5, 7, 4, 6, 3, 6, 4, 7, 4, 5, 5, 1, 5, 2, 5, 4, 2, 6, 5, 3, 6, 3, 5, 4],\n",
    "    [3, 7, 5, 4, 3, 2, 7, 5, 2, 6, 1, 1, 1, 3, 2, 2, 1, 3, 1, 7, 4, 3, 5, 4, 4, 2, 1, 3],\n",
    "    [7, 2, 4, 3, 1, 1, 5, 3, 3, 4, 5, 7, 1, 7, 2, 5, 3, 7, 2, 3, 6, 2, 4, 3, 5, 7, 5, 5],\n",
    "    [5, 3, 4, 4, 1, 4, 6, 7, 7, 3, 7, 6, 6, 7, 1, 4, 6, 3, 7, 6, 5, 1, 4, 3, 3, 2, 1, 6],\n",
    "    [1, 1, 4, 4, 6, 2, 6, 5, 2, 1, 5, 6, 4, 7, 6, 4, 6, 6, 7, 5, 7, 2, 7, 2, 1, 4, 3, 2],\n",
    "    [1, 7, 7, 4, 3, 2, 3, 3, 5, 5, 1, 6, 1, 4, 4, 3, 3, 1, 5, 1, 5, 6, 6, 4, 6, 4, 2, 1],\n",
    "    [5, 3, 1, 2, 7, 1, 6, 7, 6, 5, 5, 6, 6, 2, 6, 4, 1, 3, 6, 3, 6, 2, 1, 3, 6, 4, 4, 3],\n",
    "]\n",
    "\n",
    "attrakdiff_prototype3 = [\n",
    "    [5, 1, 4, 2, 4, 4, 6, 5, 2, 3, 4, 1, 3, 2, 2, 2, 7, 1, 4, 2, 3, 7, 2, 4, 3, 7, 1, 6],\n",
    "    [7, 5, 1, 4, 5, 3, 6, 7, 7, 2, 6, 7, 2, 7, 2, 7, 4, 5, 2, 1, 6, 3, 3, 3, 3, 7, 1, 4],\n",
    "    [1, 6, 4, 4, 6, 5, 4, 4, 7, 3, 6, 4, 3, 5, 7, 4, 4, 3, 4, 4, 7, 5, 4, 2, 6, 1, 1, 2],\n",
    "    [5, 6, 1, 2, 3, 6, 4, 7, 1, 1, 2, 5, 1, 4, 3, 4, 7, 1, 5, 2, 3, 4, 1, 4, 5, 6, 2, 4],\n",
    "    [6, 4, 7, 3, 3, 4, 3, 7, 1, 2, 3, 5, 7, 2, 7, 3, 3, 6, 6, 7, 3, 2, 2, 6, 6, 4, 1, 4],\n",
    "    [5, 1, 2, 5, 6, 5, 5, 4, 1, 4, 7, 7, 1, 5, 1, 1, 3, 7, 5, 1, 3, 6, 3, 4, 5, 1, 4, 7],\n",
    "    [4, 3, 6, 6, 1, 7, 1, 4, 7, 2, 7, 1, 3, 7, 5, 2, 5, 1, 2, 6, 3, 4, 1, 6, 5, 2, 6, 3],\n",
    "    [3, 3, 3, 3, 6, 1, 3, 6, 6, 7, 1, 2, 7, 2, 4, 3, 7, 4, 7, 6, 5, 1, 1, 4, 4, 4, 7, 5],\n",
    "    [2, 3, 7, 4, 5, 1, 6, 4, 4, 5, 4, 7, 6, 5, 3, 1, 5, 1, 3, 7, 4, 5, 2, 5, 4, 1, 1, 6],\n",
    "    [7, 7, 3, 3, 1, 5, 6, 3, 5, 3, 2, 3, 1, 2, 2, 6, 2, 4, 1, 2, 6, 2, 1, 1, 4, 4, 4, 7],\n",
    "]\n",
    "\n",
    "category_names = ['PQ', 'HQ-I', 'ATT', 'HQ-S']\n",
    "categories = [0, 1, 2, 3, 0, 1, 2, 0,  # praktisch - unpraktisch\n",
    "              2, 0, 1, 0, 1, 1, 1, 1,  # nicht vorzeigbar - vorz.\n",
    "              2, 3, 2, 0, 2, 3, 3, 3,  # lahm - fesseln\n",
    "              3, 2, 3, 0]\n",
    "\n",
    "# If the positive of the two adjectives is on the left, the score needs to be inverted via \"f(x) = 8 - x\"\n",
    "invert_score = [1, 0, 1, 1, 1, 1, 0, 1, \n",
    "                1, 0, 1, 1, 0, 0, 1, 0, \n",
    "                0, 0, 1, 0, 0, 1, 1, 0, \n",
    "                0, 1, 1, 0]\n",
    "\n",
    "data = (attrakdiff_prototype1, attrakdiff_prototype2, attrakdiff_prototype3)\n",
    "prototype_names = ('A', 'B', 'C')"
   ]
  },
  {
   "cell_type": "markdown",
   "metadata": {},
   "source": [
    "## Evaluation with Dummy Data"
   ]
  },
  {
   "cell_type": "code",
   "execution_count": 4,
   "metadata": {},
   "outputs": [
    {
     "name": "stdout",
     "output_type": "stream",
     "text": [
      "z_value 1.959963984540054\n",
      "PQ\t(3.9999663247836095, 5.619081294264009)\t4.81 \\pm 0.81\n",
      "ATT\t(4.842820596136684, 6.204798451482364)\t5.52 \\pm 0.68\n",
      "HQ-I\t(5.568848398368068, 6.6216277921081215)\t6.10 \\pm 0.53\n",
      "HQ-S\t(6.159480191335403, 6.8881388562836445)\t6.52 \\pm 0.36\n"
     ]
    }
   ],
   "source": [
    "alpha_ = 0.05\n",
    "z_value = norm.ppf(1 - alpha_ / 2.0)\n",
    "print('z_value', z_value)\n",
    "\n",
    "k = ['PQ', 'ATT', 'HQ-I', 'HQ-S']\n",
    "v = list(range(1, 8))\n",
    "\n",
    "for i in range(4):\n",
    "    d__ = []\n",
    "    for e in range(3):\n",
    "        d__.extend(v[(e + i):] + [7] * (i + e))\n",
    "    m = np.mean(d__)\n",
    "    ci = z_value * np.std(d__) / (len(d__) ** 0.5)\n",
    "    print(k[i], (m - ci, m + ci), f'{m:0.2f} \\pm {ci:0.2f}', sep='\\t')"
   ]
  },
  {
   "cell_type": "markdown",
   "metadata": {},
   "source": [
    "## Evaluation with Real Data from above"
   ]
  },
  {
   "cell_type": "code",
   "execution_count": 5,
   "metadata": {},
   "outputs": [],
   "source": [
    "def normalize_attrakdiff_ratings(attrakdiff_data):\n",
    "\n",
    "    attrakdiff_data = np.array(attrakdiff_data)\n",
    "    attrakdiff_data[:, np.array(invert_score) > 0] = 8 - attrakdiff_data[:, np.array(invert_score) > 0]\n",
    "\n",
    "    cs = np.array(categories)\n",
    "    categs = {na: attrakdiff_data[:, i == cs] for i, na in enumerate(category_names)}\n",
    "\n",
    "    category_names = ['PQ', 'ATT', 'HQ-I', 'HQ-S', 'HQ']\n",
    "    categs = OrderedDict(sorted(categs.items(), key=lambda t: category_names.index(t[0])))\n",
    "    return attrakdiff_data, categs\n",
    "    \n",
    "def get_attrakdiff_score(attrakdiff_data):\n",
    "\n",
    "    attrakdiff_data, categs = normalize_attrakdiff_ratings(attrakdiff_data)\n",
    "\n",
    "    conf_interval = {}\n",
    "    attrakdiff = {}\n",
    "    for k, v in categs.items():\n",
    "        conf_interval[k] = sms.DescrStatsW(v.ravel()).zconfint_mean()\n",
    "        attrakdiff[k] = np.mean(v)\n",
    "\n",
    "    # HQ_\n",
    "    hq = np.concatenate([categs['HQ-I'].ravel(), categs['HQ-S'].ravel()])\n",
    "    conf_interval['HQ_'] = sms.DescrStatsW(hq).zconfint_mean()\n",
    "    attrakdiff['HQ_'] = np.mean(hq)\n",
    "\n",
    "    # HQ\n",
    "    hq = np.concatenate([(categs['HQ-I'].ravel() + categs['HQ-S'].ravel()) / 2])\n",
    "    conf_interval['HQ'] = sms.DescrStatsW(hq).zconfint_mean()\n",
    "    attrakdiff['HQ'] = np.mean(hq)\n",
    "\n",
    "    for k, m in attrakdiff.items():\n",
    "        print(k, conf_interval[k], f'{m:0.2f} \\pm {conf_interval[k][1] - m:0.2f}', sep='\\t')\n",
    "\n",
    "    return np.mean(attrakdiff_data)"
   ]
  },
  {
   "cell_type": "code",
   "execution_count": 6,
   "metadata": {},
   "outputs": [
    {
     "name": "stdout",
     "output_type": "stream",
     "text": [
      "PQ\t(3.4411315082384073, 4.387439920333021)\t3.91 \\pm 0.47\n",
      "ATT\t(3.7719052612735355, 4.71380902444075)\t4.24 \\pm 0.47\n",
      "HQ-I\t(3.747647912651895, 4.680923515919534)\t4.21 \\pm 0.47\n",
      "HQ-S\t(3.797014823082429, 4.774413748346142)\t4.29 \\pm 0.49\n",
      "HQ_\t(3.9133123588286107, 4.586687641171389)\t4.25 \\pm 0.34\n",
      "HQ\t(3.9399421228971927, 4.560057877102807)\t4.25 \\pm 0.31\n",
      "% Prototype \"A\"\t4.164286\n",
      "\n",
      "PQ\t(3.6414678112145746, 4.587103617356853)\t4.11 \\pm 0.47\n",
      "ATT\t(3.6516705692736404, 4.576900859297787)\t4.11 \\pm 0.46\n",
      "HQ-I\t(3.3979922695312346, 4.373436301897337)\t3.89 \\pm 0.49\n",
      "HQ-S\t(3.8629007659956742, 4.679956376861468)\t4.27 \\pm 0.41\n",
      "HQ_\t(3.7599935913482123, 4.397149265794644)\t4.08 \\pm 0.32\n",
      "HQ\t(3.7750689177044654, 4.382073939438391)\t4.08 \\pm 0.30\n",
      "% Prototype \"B\"\t4.096429\n",
      "\n",
      "PQ\t(3.2472220093607556, 4.181349419210673)\t3.71 \\pm 0.47\n",
      "ATT\t(3.8030409630345403, 4.739816179822602)\t4.27 \\pm 0.47\n",
      "HQ-I\t(3.3467085700393278, 4.310434287103529)\t3.83 \\pm 0.48\n",
      "HQ-S\t(4.056635914968654, 4.914792656459918)\t4.49 \\pm 0.43\n",
      "HQ_\t(3.831090902498979, 4.483194811786736)\t4.16 \\pm 0.33\n",
      "HQ\t(3.8243258270513665, 4.489959887234349)\t4.16 \\pm 0.33\n",
      "% Prototype \"C\"\t4.075000\n",
      "\n"
     ]
    }
   ],
   "source": [
    "prototype_scores = (get_attrakdiff_score(d) for d in data)\n",
    "for s, d in zip(prototype_scores, prototype_names):\n",
    "    print(f'% Prototype \"{d}\"\\t{s:0.6f}', end='\\n\\n')"
   ]
  }
 ],
 "metadata": {
  "kernelspec": {
   "display_name": "Python 3",
   "language": "python",
   "name": "python3"
  },
  "language_info": {
   "codemirror_mode": {
    "name": "ipython",
    "version": 3
   },
   "file_extension": ".py",
   "mimetype": "text/x-python",
   "name": "python",
   "nbconvert_exporter": "python",
   "pygments_lexer": "ipython3",
   "version": "3.7.3"
  },
  "pycharm": {
   "stem_cell": {
    "cell_type": "raw",
    "source": [],
    "metadata": {
     "collapsed": false
    }
   }
  }
 },
 "nbformat": 4,
 "nbformat_minor": 2
}