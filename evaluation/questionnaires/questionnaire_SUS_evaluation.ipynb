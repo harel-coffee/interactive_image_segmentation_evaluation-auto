{
 "cells": [
  {
   "cell_type": "markdown",
   "metadata": {},
   "source": [
    "# System Usability Scale (SUS) Evaluation"
   ]
  },
  {
   "cell_type": "code",
   "execution_count": 1,
   "metadata": {},
   "outputs": [],
   "source": [
    "import numpy as np"
   ]
  },
  {
   "cell_type": "code",
   "execution_count": 2,
   "metadata": {},
   "outputs": [],
   "source": [
    "# Function to generate example data\n",
    "# print(*np.random.randint(low=1, high=6, size=(11, 10), dtype=np.int8).tolist(), sep=',\\n')"
   ]
  },
  {
   "cell_type": "code",
   "execution_count": 3,
   "metadata": {},
   "outputs": [],
   "source": [
    "sus_prototype1 = [\n",
    "    [4, 3, 4, 2, 5, 1, 3, 3, 1, 2],\n",
    "    [1, 4, 5, 2, 5, 2, 4, 5, 4, 5],\n",
    "    [3, 2, 5, 1, 4, 3, 5, 1, 5, 1],\n",
    "    [1, 3, 1, 2, 4, 3, 2, 1, 3, 5],\n",
    "    [3, 5, 5, 1, 4, 4, 2, 2, 3, 3],\n",
    "    [1, 2, 1, 4, 5, 3, 1, 3, 4, 4],\n",
    "    [1, 3, 1, 2, 4, 3, 2, 3, 2, 4],\n",
    "    [1, 3, 2, 4, 5, 4, 2, 5, 3, 4],\n",
    "    [4, 3, 3, 5, 3, 1, 4, 1, 3, 4],\n",
    "    [4, 4, 3, 1, 2, 2, 2, 1, 3, 1],\n",
    "    [2, 3, 2, 2, 5, 2, 3, 4, 2, 5],\n",
    "]\n",
    "\n",
    "sus_prototype2 = [\n",
    "    [2, 5, 2, 1, 5, 1, 2, 1, 2, 5],\n",
    "    [1, 2, 5, 1, 5, 5, 5, 2, 5, 3],\n",
    "    [5, 5, 1, 4, 1, 1, 2, 2, 5, 2],\n",
    "    [1, 3, 1, 2, 4, 4, 1, 2, 2, 1],\n",
    "    [4, 2, 3, 3, 4, 5, 5, 4, 5, 5],\n",
    "    [5, 5, 3, 5, 1, 3, 3, 3, 1, 2],\n",
    "    [3, 2, 2, 1, 2, 1, 1, 1, 3, 5],\n",
    "    [5, 2, 3, 1, 1, 2, 1, 2, 2, 3],\n",
    "    [1, 1, 1, 3, 2, 3, 5, 3, 5, 3],\n",
    "    [4, 1, 2, 4, 5, 4, 4, 4, 5, 5],\n",
    "    [2, 1, 3, 3, 4, 4, 2, 3, 3, 4],\n",
    "]\n",
    "\n",
    "sus_prototype3 = [\n",
    "    [2, 4, 3, 3, 1, 5, 5, 5, 4, 5],\n",
    "    [3, 5, 2, 1, 1, 2, 2, 1, 2, 5],\n",
    "    [4, 4, 2, 1, 3, 4, 3, 1, 1, 1],\n",
    "    [3, 1, 4, 2, 4, 4, 1, 3, 1, 5],\n",
    "    [4, 2, 1, 3, 3, 4, 2, 1, 2, 2],\n",
    "    [5, 3, 4, 1, 1, 2, 3, 1, 1, 2],\n",
    "    [5, 1, 2, 3, 5, 5, 2, 4, 5, 5],\n",
    "    [1, 2, 2, 5, 1, 2, 5, 2, 4, 1],\n",
    "    [2, 4, 1, 5, 5, 1, 2, 5, 2, 2],\n",
    "    [5, 4, 1, 4, 2, 1, 4, 2, 5, 5],\n",
    "    [1, 1, 3, 4, 4, 5, 1, 3, 5, 4],\n",
    "]\n",
    "\n",
    "data = (sus_prototype1, sus_prototype2, sus_prototype3)\n",
    "prototype_names = ('A', 'B', 'C')"
   ]
  },
  {
   "cell_type": "code",
   "execution_count": 4,
   "metadata": {},
   "outputs": [],
   "source": [
    "def get_sus_score(sus_data):\n",
    "    d = np.array(sus_data) - 1  # dims: (num_subjects, 10_questions)\n",
    "    if d.ndim == 1:\n",
    "        d = d[np.newaxis, :]\n",
    "    d[:, 1::2] = 4 - d[:, 1::2]\n",
    "    d = np.mean(d, axis=0)\n",
    "    return 2.5 * np.sum(d)"
   ]
  },
  {
   "cell_type": "code",
   "execution_count": 5,
   "metadata": {},
   "outputs": [],
   "source": [
    "assert 100 == get_sus_score([(5, 1) * 5])\n",
    "assert 0 == get_sus_score([(1, 5) * 5])"
   ]
  },
  {
   "cell_type": "markdown",
   "metadata": {},
   "source": [
    "## SUS Score per Prototype and Question"
   ]
  },
  {
   "cell_type": "code",
   "execution_count": 6,
   "metadata": {},
   "outputs": [
    {
     "name": "stdout",
     "output_type": "stream",
     "text": [
      "Prototype \"A\"\t[65.0, 52.5, 85.0, 42.5, 55.0, 40.0, 37.5, 32.5, 57.5, 62.5, 45.0]\n",
      "Prototype \"B\"\t[50.0, 70.0, 50.0, 42.5, 55.0, 37.5, 52.5, 55.0, 52.5, 55.0, 47.5]\n",
      "Prototype \"C\"\t[32.5, 40.0, 55.0, 45.0, 50.0, 62.5, 52.5, 52.5, 37.5, 52.5, 42.5]\n"
     ]
    }
   ],
   "source": [
    "sus_score_prototype1 = f'Prototype \"{prototype_names[0]}\"\\t{[get_sus_score(d) for d in data[0]]}'\n",
    "sus_score_prototype2 = f'Prototype \"{prototype_names[1]}\"\\t{[get_sus_score(d) for d in data[1]]}'\n",
    "sus_score_prototype3 = f'Prototype \"{prototype_names[2]}\"\\t{[get_sus_score(d) for d in data[2]]}'\n",
    "\n",
    "print(sus_score_prototype1, sus_score_prototype2, sus_score_prototype3, sep='\\n')"
   ]
  },
  {
   "cell_type": "markdown",
   "metadata": {},
   "source": [
    "## Overall SUS Score per Prototype"
   ]
  },
  {
   "cell_type": "code",
   "execution_count": 7,
   "metadata": {},
   "outputs": [
    {
     "name": "stdout",
     "output_type": "stream",
     "text": [
      "Prototype \"A\"\t52.272727\n",
      "Prototype \"B\"\t51.590909\n",
      "Prototype \"C\"\t47.500000\n"
     ]
    }
   ],
   "source": [
    "prototype_scores = (get_sus_score(d) for d in data)\n",
    "for s, d in zip(prototype_scores, prototype_names):\n",
    "    print(f'Prototype \"{d}\"\\t{s:0.6f}', end='\\n')"
   ]
  }
 ],
 "metadata": {
  "kernelspec": {
   "display_name": "Python 3",
   "language": "python",
   "name": "python3"
  },
  "language_info": {
   "codemirror_mode": {
    "name": "ipython",
    "version": 3
   },
   "file_extension": ".py",
   "mimetype": "text/x-python",
   "name": "python",
   "nbconvert_exporter": "python",
   "pygments_lexer": "ipython3",
   "version": "3.7.3"
  }
 },
 "nbformat": 4,
 "nbformat_minor": 2
}
